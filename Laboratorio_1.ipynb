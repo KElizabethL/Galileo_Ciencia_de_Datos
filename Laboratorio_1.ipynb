{
  "nbformat": 4,
  "nbformat_minor": 0,
  "metadata": {
    "colab": {
      "name": "Laboratorio 1.ipynb",
      "provenance": [],
      "collapsed_sections": [],
      "include_colab_link": true
    },
    "kernelspec": {
      "name": "python3",
      "display_name": "Python 3"
    },
    "language_info": {
      "name": "python"
    }
  },
  "cells": [
    {
      "cell_type": "markdown",
      "metadata": {
        "id": "view-in-github",
        "colab_type": "text"
      },
      "source": [
        "<a href=\"https://colab.research.google.com/github/KElizabethL/Galileo_Ciencia_de_Datos/blob/main/Laboratorio_1.ipynb\" target=\"_parent\"><img src=\"https://colab.research.google.com/assets/colab-badge.svg\" alt=\"Open In Colab\"/></a>"
      ]
    },
    {
      "cell_type": "markdown",
      "source": [
        "Ciencia de datos en Python                                                                       \n",
        "Karin Lopez                                                                                                                                                                     \n",
        "                                **Laboratorio #1**"
      ],
      "metadata": {
        "id": "Xbd8s-OHVdMp"
      }
    },
    {
      "cell_type": "markdown",
      "source": [
        "1. Haga un programa en Python que reciba de parámetro un número de segundos y que despliegue en pantalla, las horas, minutos y segundos que representan."
      ],
      "metadata": {
        "id": "6671U6ztDIgB"
      }
    },
    {
      "cell_type": "code",
      "execution_count": null,
      "metadata": {
        "id": "lTBojzsfDHB0"
      },
      "outputs": [],
      "source": [
        "try:\n",
        "  I_Segundos = int(input(\"Ingrese el numero de segundos: \"))\n",
        "  horas=int(I_Segundos/3600)\n",
        "  minutos=int((I_Segundos%3600)/60)\n",
        "  segundos=int((I_Segundos%216000)-(minutos*60)-(horas*3600))\n",
        "  print(f\"El valor es {horas} hora, {minutos} Minutos,{segundos} Segundos\")\n",
        "except(ValueError):\n",
        "  print(\"Los datos no son validos.\")"
      ]
    },
    {
      "cell_type": "markdown",
      "source": [
        "Para completar su programa escriba otra regla que lea los segundos del teclado y mande a llamar la regla anterior.\n"
      ],
      "metadata": {
        "id": "uCi9KOArZ1U4"
      }
    },
    {
      "cell_type": "code",
      "source": [
        "\n",
        "def cambiosegundos(I_Segundos):\n",
        "  return \n",
        "  horas=int(I_Segundos/3600)\n",
        "  minutos=int((I_Segundos%3600)/60)\n",
        "  segundos=int((I_Segundos%216000)-(minutos*60)-(horas*3600))\n",
        "\n",
        "I_Segundos = int(input(\"Ingrese el numero de segundos: \"))\n",
        "salida =cambiosegundos(I_Segundos)\n",
        "print(salida)\n"
      ],
      "metadata": {
        "colab": {
          "base_uri": "https://localhost:8080/"
        },
        "id": "HZHZZ1ZYVj4v",
        "outputId": "6582f03b-51d0-4402-ab6b-f659b53b33da"
      },
      "execution_count": 31,
      "outputs": [
        {
          "output_type": "stream",
          "name": "stdout",
          "text": [
            "Ingrese el numero de segundos: 60\n",
            "None\n"
          ]
        }
      ]
    },
    {
      "cell_type": "markdown",
      "source": [
        "2.Haga un programa en Python que permita el ingreso de las calificaciones de una\n",
        "evaluación del curso de Ciencia de Datos en Python, el programa debe desplegar un mensaje en función de la nota ingresada. Además de eso si la calificación es reprobada ósea menor a 71, se debe calcular la diferencia entre la nota de aprobación y la calificación ingresada."
      ],
      "metadata": {
        "id": "1ALYxaVxJYhY"
      }
    },
    {
      "cell_type": "code",
      "source": [
        "\n",
        "try:\n",
        " nota = int(input(\"Ingrese nota del estudiante: \"))\n",
        " if(nota >= 90 ):\n",
        "   print(\"SOBRESALIENTE\")\n",
        " elif(nota  > 70):\n",
        "  print(\"MUY BIEN\")\n",
        " elif(nota > 60):\n",
        "  print(\"BIEN\")\n",
        "  print(71-nota, \"Puntos faltantes\")\n",
        " elif(nota >= 50):\n",
        "  print(\"REGULAR\")\n",
        "  print(71-nota, \"Puntos faltantes\")\n",
        " elif(nota < 50):\n",
        "   print(\"INSUFICIENTE\")\n",
        "   print(71-nota, \"Puntos faltantes\")\n",
        "except(ValueError):\n",
        "  print(\"Los datos no son validos.\")"
      ],
      "metadata": {
        "id": "Gcmp-C3HJh6D"
      },
      "execution_count": null,
      "outputs": []
    },
    {
      "cell_type": "markdown",
      "source": [
        "3) Haga un programa en Python que dados dos números ingresados por el usuario, el primero mayor que el segundo, calcular y mostrar la suma de todos los números\n",
        "comprendidos entre ambos. "
      ],
      "metadata": {
        "id": "3xnBqkR3XHlC"
      }
    },
    {
      "cell_type": "code",
      "source": [
        "Num1 =int(input(\"Ingrese el primer numero: \"))\n",
        "Num2 =int(input(\"Ingrese el segundo numero (menor que el primero): \"))\n",
        "if(Num2 >= Num1):\n",
        "    print(\"¡¡El primer numero debe de ser mayor al segundo!!\")\n",
        "else:\n",
        "      total=Num1\n",
        "      for i in range(Num2, Num1 ):\n",
        "       total=total+i\n",
        "print(total)\n",
        " "
      ],
      "metadata": {
        "colab": {
          "base_uri": "https://localhost:8080/"
        },
        "id": "XPIJaDeYaSbb",
        "outputId": "a09b68a6-e272-4e75-db89-c20f24e84beb"
      },
      "execution_count": 14,
      "outputs": [
        {
          "output_type": "stream",
          "name": "stdout",
          "text": [
            "Ingrese el primer numero: 9\n",
            "Ingrese el segundo numero (menor que el primero): 5\n",
            "35\n"
          ]
        }
      ]
    },
    {
      "cell_type": "markdown",
      "source": [
        "4) Haga un programa en Python que lea un número mayor que 0 y despliegue todos sus factores. \n",
        "Ingrese un número: 12\n",
        "Factores: {1,2,3,4,6,12}\n",
        "Utilice un ciclo while para este ejercicio."
      ],
      "metadata": {
        "id": "mN-LRyJQ4X4B"
      }
    },
    {
      "cell_type": "code",
      "source": [
        "Ingreso_numero = int(input(\"Escriba un número mayor que cero \"))\n",
        "i=1\n",
        "if Ingreso_numero <= 0:\n",
        "        print(\"Debe de ser un numero mayor a cero\")\n",
        "else:\n",
        "  while i<= Ingreso_numero:\n",
        "    if Ingreso_numero%i == 0:  \n",
        "        print(i)\n",
        "    i= i +1\n"
      ],
      "metadata": {
        "colab": {
          "base_uri": "https://localhost:8080/"
        },
        "id": "dG50v9NP4ezg",
        "outputId": "ceb8b9eb-eaf6-464f-d830-5cda99b748dd"
      },
      "execution_count": 15,
      "outputs": [
        {
          "output_type": "stream",
          "name": "stdout",
          "text": [
            "Escriba un número mayor que cero 12\n",
            "1\n",
            "2\n",
            "3\n",
            "4\n",
            "6\n",
            "12\n"
          ]
        }
      ]
    },
    {
      "cell_type": "markdown",
      "source": [
        "5) Haga un programa en Python que la fecha de nacimiento de una persona (puede ingresar por separado cada valor, es decir pedir primero día, luego mes y luego año), despliegue la edad de la persona en años, meses y días. Su resultado puede ser aproximado."
      ],
      "metadata": {
        "id": "2KvVSp_X5H-6"
      }
    },
    {
      "cell_type": "code",
      "source": [
        "from datetime import date\n",
        "Fechaactual = date.today()\n",
        "DiaA=int(Fechaactual.strftime('%d'))\n",
        "MesA=int(Fechaactual.strftime('%m'))\n",
        "AnioA=int(Fechaactual.strftime('%Y'))\n",
        "try:\n",
        "    DiaN=int(input(\"Ingrese su Dia de nacimiento: \"))\n",
        "    MesN=int(input(\"Ingrese su Mes de nacimiento: \"))\n",
        "    AnioN=int(input(\"Ingrese su Año de nacimiento: \"))\n",
        "    DiaTotal=(((AnioA*365)+(MesA*30)+(DiaA))-((AnioN*365)+(MesN*30)+(DiaN)))\n",
        "    anio=int(DiaTotal/365)\n",
        "    mes=int((DiaTotal%365)/30)\n",
        "    dia=(DiaTotal-(anio*365)-(mes*30))\n",
        "    print(f\"Su edad es:{anio} años con {mes} meses y {dia} dias\")\n",
        "    print(anio,mes,dia)\n",
        "except(ValueError):\n",
        "  print(\"Los datos no son validos.\")"
      ],
      "metadata": {
        "id": "wAjyxE2L5fqQ"
      },
      "execution_count": null,
      "outputs": []
    },
    {
      "cell_type": "markdown",
      "source": [
        "6) Haga un programa en Python que dado un número entre 1 y 20. Y un carácter cualquiera despliegue cuatro patrones triangulares. \n"
      ],
      "metadata": {
        "id": "wCzsZmtWI8V2"
      }
    },
    {
      "cell_type": "code",
      "source": [
        "try: \n",
        "  Simbolo = input((\"Inserte simbolo:\"))\n",
        "  Repeticion = int(input((\"Ingrese un numero entre 1 a 20:\")))\n",
        "  Espacios = \" \"*5\n",
        "  if Repeticion<=0:\n",
        "      print(\"Debe de ser un numero mayor a cero\")\n",
        "  elif Repeticion >20: \n",
        "      print(\"Debe de ser un numero menor a veinte\")\n",
        "except(ValueError):\n",
        "  print(\"Los datos no son validos.\")     \n",
        "\n",
        "for i in range (1,  Repeticion+1):\n",
        "  valora= Simbolo*i\n",
        "  valorb= Simbolo*(Repeticion-i+1)\n",
        "  valor1=\"{0:<{vRepeticion}}\".format(valora,vRepeticion=Repeticion)\n",
        "  valor2=\"{0:>{vRepeticion}}\".format(valorb,vRepeticion=Repeticion)\n",
        "  valor3=\"{0:<{vRepeticion}}\".format(valorb,vRepeticion=Repeticion)\n",
        "  valor4=\"{0:>{vRepeticion}}\".format(valora,vRepeticion=Repeticion)\n",
        "  print(valor1+Espacios+valor2+Espacios+valor3+Espacios+valor4)\n",
        "\n"
      ],
      "metadata": {
        "id": "WiVYljNdI_KO"
      },
      "execution_count": null,
      "outputs": []
    }
  ]
}