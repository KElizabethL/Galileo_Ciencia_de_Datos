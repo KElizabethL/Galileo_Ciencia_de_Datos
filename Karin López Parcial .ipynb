{
 "cells": [
  {
   "cell_type": "code",
   "execution_count": null,
   "id": "11e675b0",
   "metadata": {},
   "outputs": [],
   "source": [
    "##Karin López"
   ]
  },
  {
   "cell_type": "code",
   "execution_count": null,
   "id": "4e793a66",
   "metadata": {},
   "outputs": [],
   "source": [
    "Desarrolle en Python un programa el cual genere un código alfa numérico de 7 letras mayusculas y\n",
    "7 números entérelo, estos deben ser aleatorios, el código debe ser intercalado empezando por letras.\n",
    "Su programa debe ejecutarse siempre y esperar la tecla enter para crear un código nuevo, el\n",
    "programa solo debe detenerse cuando el usuario ingrese la palabra exit en mayusculas o\n",
    "minúsculas o combinado.\n",
    "Ademas de esto su programa debe separar todos los códigos que se generen en validos o no validos,\n",
    "un código se considera valido si la suma de los números que lo conforman es mayor a 30 y no es\n",
    "valido end caso contrario.\n",
    "Si un código es valido, este debe almacenarse en un diccionario el cual contenga la suma de los\n",
    "números enteros como llave y el código como valor, note que en una ejecución se pueden crear\n",
    "varios códigos.\n",
    "Por otro lado si el código no es valido, este deberá almacenarse en una lista.\n",
    "Al momento de que el usuario ingrese exit, el programa deberá desplegar el contenido del diccionario\n",
    "de códigos validos y la lista de códigos no válidos."
   ]
  },
  {
   "cell_type": "code",
   "execution_count": 1,
   "id": "9ef1665f",
   "metadata": {},
   "outputs": [],
   "source": [
    "import random"
   ]
  },
  {
   "cell_type": "code",
   "execution_count": null,
   "id": "1dac4c1e",
   "metadata": {},
   "outputs": [
    {
     "name": "stdout",
     "output_type": "stream",
     "text": [
      "Presione enter para continuar [ENTER]\n",
      "\n",
      "valido:  C9P7E3H0W7X9R0\n",
      "Presione enter para continuar [ENTER]\n",
      "\n",
      "no valido:  I3F2O3M6O6G5A3\n",
      "Presione enter para continuar [ENTER]\n",
      "EXIT\n",
      "Exit\n",
      "Validos:  {35: 'C9P7E3H0W7X9R0'}\n",
      "No Validos:  ['I3F2O3M6O6G5A3']\n"
     ]
    }
   ],
   "source": [
    "validos={}\n",
    "noValidos=[]\n",
    "\n",
    "dataExit=\"EXIT\"\n",
    "\n",
    "\n",
    "def generar():\n",
    "    codigo=\"\"\n",
    "    sumaint = 0\n",
    "    for _ in range(7):\n",
    "        letra = chr(random.randint(ord('A'), ord('Z')))\n",
    "        randint = random.randint(0, 9)\n",
    "        codigo += letra + str(randint)\n",
    "        sumaint += randint\n",
    "\n",
    "    if sumaint>30:\n",
    "        print(\"valido: \", codigo)\n",
    "        validos.update({sumaint: codigo})\n",
    "    else:\n",
    "        print(\"no valido: \", codigo)\n",
    "        noValidos.insert(0,codigo)\n",
    "\n",
    "def imprimir():\n",
    "    print(\"Validos: \", validos)\n",
    "    print(\"No Validos: \", noValidos)\n",
    "\n",
    "\n",
    "while 1:\n",
    "    value = input(\"Presione enter para continuar [ENTER]\\n\")\n",
    "    if isinstance(value, str):\n",
    "        if value.upper()==dataExit:\n",
    "            print(\"Exit\")\n",
    "            imprimir()\n",
    "            quit()\n",
    "        else:\n",
    "            #print(\"Continuar\")\n",
    "            generar()"
   ]
  },
  {
   "cell_type": "code",
   "execution_count": null,
   "id": "6d59c7ad",
   "metadata": {},
   "outputs": [],
   "source": []
  }
 ],
 "metadata": {
  "kernelspec": {
   "display_name": "Python 3 (ipykernel)",
   "language": "python",
   "name": "python3"
  },
  "language_info": {
   "codemirror_mode": {
    "name": "ipython",
    "version": 3
   },
   "file_extension": ".py",
   "mimetype": "text/x-python",
   "name": "python",
   "nbconvert_exporter": "python",
   "pygments_lexer": "ipython3",
   "version": "3.9.7"
  }
 },
 "nbformat": 4,
 "nbformat_minor": 5
}
