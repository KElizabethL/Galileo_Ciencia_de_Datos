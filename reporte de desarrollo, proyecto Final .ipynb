{
 "cells": [
  {
   "cell_type": "markdown",
   "id": "4dbb9b0c",
   "metadata": {},
   "source": [
    "![Universidad Galileo](data:image/jpeg;base64,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)\n",
    "\n",
    "# Ciencia de Datos en Python\n",
    "\n",
    "### Karin Elizabeth López Padilla \n",
    "\n",
    "\n",
    "### José Andrés Márquez Morataya \n"
   ]
  },
  {
   "cell_type": "markdown",
   "id": "ad6559ca",
   "metadata": {},
   "source": [
    "\n",
    "### Proyecto de Encuesta de empleo de Guatemala\n"
   ]
  },
  {
   "cell_type": "markdown",
   "id": "deddf0a3",
   "metadata": {},
   "source": [
    "El proyecto costa de 3 archivos los cuales se detallan en el cuadro actuación \n",
    "\n",
    "El objetivo de este proyecto es poder trasformar la data para poder crear un archivo que concatenen todas las variables y poder un único archivo de data lakes\n",
    "\n",
    "|No. Archivo|Nombre Archivo     | base de datos|\n",
    "------------|-------------------|--------------|\n",
    "|        1  |Respuesta Encuenta | RDS          |\n",
    "|        2  | Diccionarios 1    | S3           |\n",
    "|        3  | Diccionarios 2    | S3         |\n",
    "--------------------------------------------------\n",
    "\n",
    "En RDS se contenía el archivo completo de las respuestas de la encuesta realizado por el instituto nacional de estadística, se extrajo el contenido del archivo de RDS y se convirtió en la Fact table. \n",
    "\n",
    "Luego se realizo la lectura de lo bucket que se encontraban en el S3, se realizo en dar los accesos necesarios para realizar accede. \n",
    "\n",
    "Como los dos diccionarios contaban con la misma columna se realizó el Apped de los mismos para realizar un único data frame.\n",
    "Se realizo la concatenación de los datos de Numero de variable y valor para poder contar con una columna llave para poder unificarlo con la fact. \n",
    "\n",
    "En la tabla de respuestas que es nuestra fact se realizo la concatenación de las variables para que se pudieran unificar con la tabla del diccionario.\n",
    "\n",
    " Ya con todo esto listo se realizo el merge de las dos tablas y se realizo un  nuevo data frame. \n",
    "Este ultimo data frame se llamo resumen el cual se llamo a S3.\n"
   ]
  }
 ],
 "metadata": {
  "kernelspec": {
   "display_name": "Python 3 (ipykernel)",
   "language": "python",
   "name": "python3"
  },
  "language_info": {
   "codemirror_mode": {
    "name": "ipython",
    "version": 3
   },
   "file_extension": ".py",
   "mimetype": "text/x-python",
   "name": "python",
   "nbconvert_exporter": "python",
   "pygments_lexer": "ipython3",
   "version": "3.9.7"
  }
 },
 "nbformat": 4,
 "nbformat_minor": 5
}
