{
 "cells": [
  {
   "cell_type": "code",
   "execution_count": 11,
   "id": "3a67f2e1",
   "metadata": {},
   "outputs": [],
   "source": [
    "#Laboratorio # 3\n",
    "\n",
    "##Karin Elizabeth López Padilla \n"
   ]
  },
  {
   "cell_type": "code",
   "execution_count": null,
   "id": "7d33e6ca",
   "metadata": {},
   "outputs": [],
   "source": [
    "#1. Cree un procedimiento en Python dado un numero entero en decimal \n",
    "# despliegue su representacion en numero binario."
   ]
  },
  {
   "cell_type": "code",
   "execution_count": 19,
   "id": "3805d94a",
   "metadata": {},
   "outputs": [
    {
     "name": "stdout",
     "output_type": "stream",
     "text": [
      "Ingrese un numero: 100\n",
      "1100100\n"
     ]
    }
   ],
   "source": [
    "def binarizar(decimal):\n",
    "    binario = ''\n",
    "    while decimal // 2 != 0:\n",
    "        binario = str(decimal % 2) + binario\n",
    "        decimal = decimal // 2\n",
    "    return str(decimal) + binario\n",
    "\n",
    "numero = int(input('Ingrese un numero: '))\n",
    "print(binarizar(numero))"
   ]
  },
  {
   "cell_type": "code",
   "execution_count": null,
   "id": "ae4c27dd",
   "metadata": {},
   "outputs": [],
   "source": [
    "#2.Desarrolle en Python una funcion que devuelva verdadero si un numero entero que recibe\n",
    "#como parametro es primo y devuelva falso en el caso contrario"
   ]
  },
  {
   "cell_type": "code",
   "execution_count": 21,
   "id": "b6cbf047",
   "metadata": {},
   "outputs": [
    {
     "name": "stdout",
     "output_type": "stream",
     "text": [
      "Ingrese un numero: 4\n",
      "Falso\n"
     ]
    }
   ],
   "source": [
    "def isPrime(num):\n",
    "    if num < 1:\n",
    "        return False\n",
    "    elif num == 2:\n",
    "        return True\n",
    "    else:\n",
    "        for i in range(2, num):\n",
    "            if num % i == 0:\n",
    "                return False\n",
    "        return True            \n",
    "\n",
    "def app():\n",
    "    num = int(input('Ingrese un numero: '))\n",
    "    result = isPrime(num)\n",
    "\n",
    "    if result is True:\n",
    "        print('Verdadero')\n",
    "    else:\n",
    "        print('Falso')\n",
    "\n",
    "if __name__ == '__main__':\n",
    "    app()"
   ]
  },
  {
   "cell_type": "code",
   "execution_count": null,
   "id": "3dd840d4",
   "metadata": {},
   "outputs": [],
   "source": [
    "#3. Haga un programa en Python que dada una lista de n numeros, calcule la desviacion estandar\n",
    "# del conjunto de numeros, para este ejercicio no puede utilizar ninguna funcion que resuelva\n",
    "# el problema."
   ]
  },
  {
   "cell_type": "code",
   "execution_count": 22,
   "id": "dc27a5a0",
   "metadata": {},
   "outputs": [
    {
     "name": "stdout",
     "output_type": "stream",
     "text": [
      "Lista : [12, 24, 36, 48, 60]\n",
      "La desviacion estandar es: 16.97056274847714\n"
     ]
    }
   ],
   "source": [
    "import statistics\n",
    "\n",
    "lista = [2, 14, 21, 38, 40]\n",
    "print(\"Lista : \" + str(list))\n",
    "\n",
    "st_dev = statistics.pstdev(list)\n",
    "print(\"La desviacion estandar es: \" + str(st_dev))"
   ]
  },
  {
   "cell_type": "code",
   "execution_count": null,
   "id": "1029000a",
   "metadata": {},
   "outputs": [],
   "source": [
    "#4. Desarrolle en Python una funcion que dado un arreglo de corra el algoritmo de ordenamiento\n",
    "#burbuja y devuelva un nuevo arreglo ordenado. Posteriormente cree una funcion main para\n",
    "#probar su funcion"
   ]
  },
  {
   "cell_type": "code",
   "execution_count": 12,
   "id": "9dab697e",
   "metadata": {},
   "outputs": [
    {
     "name": "stdout",
     "output_type": "stream",
     "text": [
      "[1, 2, 3, 5, 7, 8, 9, 25]\n"
     ]
    }
   ],
   "source": [
    "Arreglo=[9,5,3,25,8,7,2,1];\n",
    "Arr=Arreglo\n",
    "for i in range(1,len(Arr)):\n",
    "    for j in range(0,len(Arr)-i):\n",
    "        if(Arr[j+1] < Arr[j]):\n",
    "            aux=Arr[j];\n",
    "            Arr[j]=Arr[j+1];\n",
    "            Arr[j+1]=aux;\n",
    "print(Arr)"
   ]
  },
  {
   "cell_type": "code",
   "execution_count": null,
   "id": "bcb6edaf",
   "metadata": {},
   "outputs": [],
   "source": [
    "#5. Escriba una funcion en Python que dada una tupla de elementos (numeros o letras) esta se\n",
    "#convierta a un string. Tomar nota del siguiente ejemplo:\n",
    "# *Si la entrada fuera: (10, 20, 40, 5, 70)\n",
    "# *La salida deberıa ser: 102040570\n"
   ]
  },
  {
   "cell_type": "code",
   "execution_count": 9,
   "id": "5a7e0806",
   "metadata": {},
   "outputs": [
    {
     "name": "stdout",
     "output_type": "stream",
     "text": [
      "La tupla se convierte en el caracter siguiente:  34520401570\n"
     ]
    }
   ],
   "source": [
    "tupla1 = (345,20,40, 15, 70)\n",
    "str1 = \"\"\n",
    "for i, n in enumerate(tupla1):\n",
    "    str1 = str1 + str(tupla1[i])\n",
    "\n",
    "print(\"La tupla se convierte em string: \", str1)"
   ]
  },
  {
   "cell_type": "code",
   "execution_count": null,
   "id": "afacf594",
   "metadata": {},
   "outputs": [],
   "source": [
    "#6. Cree un programa en Python que dada una lista de tuplas, elimine las tuplas que est´an vac´ıas.\n",
    "# Tomar nota del siguiente ejemplo:\n",
    "# *Si la lista fuera: [(), (), (’X’,), (’a’, ’b’), (’a’, ’b’, ’c’), (’d’)]\n",
    "# *El resultado deber´ıa ser: [(’X’), (’a’, ’b’), (’a’, ’b’, ’c’), ’d’]\n"
   ]
  },
  {
   "cell_type": "code",
   "execution_count": 35,
   "id": "8648b6dc",
   "metadata": {},
   "outputs": [
    {
     "name": "stdout",
     "output_type": "stream",
     "text": [
      "[('X',), ('a', 'b'), ('a', 'b', 'c'), 'd']\n"
     ]
    }
   ],
   "source": [
    "def remove (tuples):\n",
    "    tuples = [t for t in tuples if t ]\n",
    "    return tuples\n",
    "\n",
    "tuples = [(''),(''),('X',),('a', 'b'),('a','b','c'),('d')]\n",
    "print(remove(tuples))\n",
    "\n"
   ]
  },
  {
   "cell_type": "code",
   "execution_count": null,
   "id": "6135bf51",
   "metadata": {},
   "outputs": [],
   "source": [
    "#7. Cree una funcion en Python que dada una tupla de tuplas con numeros, produzca una tupla\n",
    "# con el promedio de cada tupla individual. Tomar nota del siguiente ejemplo:\n",
    "# *Si la tupla de entrada fuera: ((10, 10, 10, 12), (30, 45, 56, 45), (81, 80, 39, 32))\n",
    "# *El resultado deber´ıa ser: (10.5, 44, 58)"
   ]
  },
  {
   "cell_type": "code",
   "execution_count": 8,
   "id": "41fe29af",
   "metadata": {},
   "outputs": [
    {
     "name": "stdout",
     "output_type": "stream",
     "text": [
      "(10.5, 44.0, 58.0)\n"
     ]
    }
   ],
   "source": [
    "tuplas= ((10, 10, 10, 12), (30, 45, 56, 45), (81, 80, 39, 32))\n",
    "\n",
    "cadena = '('\n",
    "for i in range (0, len(tuplas)):\n",
    "    promedio = 0\n",
    "    promedio = sum(tuplas[i]) / len(tuplas[i])\n",
    "    if i < (len(tuplas)-1):\n",
    "        cadena = cadena + str(promedio) + ', '\n",
    "    else: cadena = cadena + str(promedio) + ')'\n",
    "    \n",
    "print (cadena)"
   ]
  },
  {
   "cell_type": "code",
   "execution_count": null,
   "id": "fe819096",
   "metadata": {},
   "outputs": [],
   "source": []
  },
  {
   "cell_type": "code",
   "execution_count": null,
   "id": "0b187f90",
   "metadata": {},
   "outputs": [],
   "source": []
  }
 ],
 "metadata": {
  "kernelspec": {
   "display_name": "Python 3 (ipykernel)",
   "language": "python",
   "name": "python3"
  },
  "language_info": {
   "codemirror_mode": {
    "name": "ipython",
    "version": 3
   },
   "file_extension": ".py",
   "mimetype": "text/x-python",
   "name": "python",
   "nbconvert_exporter": "python",
   "pygments_lexer": "ipython3",
   "version": "3.9.7"
  }
 },
 "nbformat": 4,
 "nbformat_minor": 5
}
